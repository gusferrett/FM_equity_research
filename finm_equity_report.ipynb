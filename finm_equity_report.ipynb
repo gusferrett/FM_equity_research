{
 "cells": [
  {
   "cell_type": "code",
   "execution_count": 3,
   "metadata": {},
   "outputs": [],
   "source": [
    "# install necessary packages\n",
    "import yfinance as yf\n",
    "import pandas as pd\n",
    "import numpy as np\n",
    "import matplotlib.pyplot as plt\n",
    "import fpdf as pdf\n",
    "import os"
   ]
  },
  {
   "cell_type": "code",
   "execution_count": 24,
   "metadata": {},
   "outputs": [
    {
     "data": {
      "text/plain": [
       "''"
      ]
     },
     "execution_count": 24,
     "metadata": {},
     "output_type": "execute_result"
    }
   ],
   "source": [
    "import os\n",
    "import requests\n",
    "from fpdf import FPDF\n",
    "import af_utility_functions_1 as af\n",
    "\n",
    "import importlib\n",
    "importlib.reload(af)\n",
    "\n",
    "stockData, TICKER = af.getStockFinancial()\n",
    "\n",
    "# uq logo \n",
    "uqLogo2_url = \"https://images.credly.com/images/35ac3cf1-bb90-47e7-977f-5cb2892039cd/blob.png\"\n",
    "image_filename2 = \"uq_logo2.png\"\n",
    "if not os.path.exists(image_filename2):\n",
    "    response = requests.get(uqLogo2_url)\n",
    "    if response.status_code == 200:\n",
    "        with open(image_filename2, 'wb') as f:\n",
    "            f.write(response.content)\n",
    "\n",
    "# Asx center image \n",
    "centerImage_url = \"https://content.api.news/v3/images/bin/1d3bb590c84a81fbdcfa65cad1054bd1\"\n",
    "centerImage_filename = \"centerImage.jpg\"\n",
    "if not os.path.exists(centerImage_filename):\n",
    "    response = requests.get(centerImage_url)\n",
    "    if response.status_code == 200:\n",
    "        with open(centerImage_filename, 'wb') as f:\n",
    "            f.write(response.content)\n",
    "\n",
    "pdf = FPDF()\n",
    "pdf.add_page()\n",
    "\n",
    "#uq coloured background\n",
    "pdf.set_fill_color(81, 36, 122)\n",
    "pdf.rect(0, 0, 210, 297, 'F')  \n",
    "\n",
    "#logo in top left corner\n",
    "if os.path.exists(image_filename2):\n",
    "    pdf.image(image_filename2, x=10, y=10, w=60)\n",
    "\n",
    "# report title, ticker name and date to the right of the logo\n",
    "pdf.set_text_color(255, 255, 255)\n",
    "pdf.set_font('Arial', 'B', 24)\n",
    "pdf.set_xy(75, 20)\n",
    "pdf.cell(0, 10, 'Research Equity Report', ln=True)\n",
    "pdf.set_xy(75, 35)\n",
    "pdf.set_font('Arial', '', 20)\n",
    "pdf.cell(0, 10, f'{TICKER}', ln=True)\n",
    "\n",
    "date = pd.to_datetime('today').strftime('%Y-%m-%d')\n",
    "pdf.set_xy(75, 50)\n",
    "pdf.set_font('Arial', '', 16)\n",
    "pdf.cell(0, 10, f'{date}', ln=True)\n",
    "\n",
    "#making white border for center image \n",
    "if os.path.exists(centerImage_filename):\n",
    "    img_width = 210 \n",
    "    img_height = 100 \n",
    "    x = (210 - img_width) / 2\n",
    "    y = 70\n",
    "\n",
    "    border_padding = 2\n",
    "    pdf.set_draw_color(255, 255, 255) \n",
    "    pdf.set_line_width(1)\n",
    "    pdf.rect(x - border_padding, y - border_padding, img_width + 2 * border_padding, img_height + 2 * border_padding)\n",
    "\n",
    "    # Insert image\n",
    "    pdf.image(centerImage_filename, x=x, y=y, w=img_width, h=img_height)\n",
    "\n",
    "# group member text file\n",
    "with open(\"group_members.txt\", \"r\", encoding=\"utf-8\") as f:\n",
    "    text = f.read().replace(\"–\", \"-\")\n",
    "    pdf.set_xy(10, 190)\n",
    "    pdf.set_font('Arial', '', 12)\n",
    "    pdf.multi_cell(0, 10, text)\n",
    "\n",
    "af.addFormattedPDFPage(pdf, image_filename2)\n",
    "\n",
    "\n",
    "# output\n",
    "pdf.output('equity_research_report.pdf')\n"
   ]
  },
  {
   "cell_type": "code",
   "execution_count": null,
   "metadata": {},
   "outputs": [],
   "source": []
  }
 ],
 "metadata": {
  "kernelspec": {
   "display_name": "Python 3",
   "language": "python",
   "name": "python3"
  },
  "language_info": {
   "codemirror_mode": {
    "name": "ipython",
    "version": 3
   },
   "file_extension": ".py",
   "mimetype": "text/x-python",
   "name": "python",
   "nbconvert_exporter": "python",
   "pygments_lexer": "ipython3",
   "version": "3.12.4"
  }
 },
 "nbformat": 4,
 "nbformat_minor": 2
}
