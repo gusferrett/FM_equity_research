{
 "cells": [
  {
   "cell_type": "code",
   "execution_count": 1,
   "id": "ab464754",
   "metadata": {},
   "outputs": [
    {
     "name": "stdout",
     "output_type": "stream",
     "text": [
      "Requirement already satisfied: yfinance in /home/codespace/.local/lib/python3.12/site-packages (0.2.55)\n",
      "Requirement already satisfied: pandas>=1.3.0 in /home/codespace/.local/lib/python3.12/site-packages (from yfinance) (2.2.3)\n",
      "Requirement already satisfied: numpy>=1.16.5 in /home/codespace/.local/lib/python3.12/site-packages (from yfinance) (2.2.4)\n",
      "Requirement already satisfied: requests>=2.31 in /home/codespace/.local/lib/python3.12/site-packages (from yfinance) (2.32.3)\n",
      "Requirement already satisfied: multitasking>=0.0.7 in /home/codespace/.local/lib/python3.12/site-packages (from yfinance) (0.0.11)\n",
      "Requirement already satisfied: platformdirs>=2.0.0 in /home/codespace/.local/lib/python3.12/site-packages (from yfinance) (4.3.7)\n",
      "Requirement already satisfied: pytz>=2022.5 in /home/codespace/.local/lib/python3.12/site-packages (from yfinance) (2025.2)\n",
      "Requirement already satisfied: frozendict>=2.3.4 in /home/codespace/.local/lib/python3.12/site-packages (from yfinance) (2.4.6)\n",
      "Requirement already satisfied: peewee>=3.16.2 in /home/codespace/.local/lib/python3.12/site-packages (from yfinance) (3.17.9)\n",
      "Requirement already satisfied: beautifulsoup4>=4.11.1 in /home/codespace/.local/lib/python3.12/site-packages (from yfinance) (4.13.3)\n",
      "Requirement already satisfied: soupsieve>1.2 in /home/codespace/.local/lib/python3.12/site-packages (from beautifulsoup4>=4.11.1->yfinance) (2.6)\n",
      "Requirement already satisfied: typing-extensions>=4.0.0 in /home/codespace/.local/lib/python3.12/site-packages (from beautifulsoup4>=4.11.1->yfinance) (4.13.2)\n",
      "Requirement already satisfied: python-dateutil>=2.8.2 in /home/codespace/.local/lib/python3.12/site-packages (from pandas>=1.3.0->yfinance) (2.9.0.post0)\n",
      "Requirement already satisfied: tzdata>=2022.7 in /home/codespace/.local/lib/python3.12/site-packages (from pandas>=1.3.0->yfinance) (2025.2)\n",
      "Requirement already satisfied: charset-normalizer<4,>=2 in /home/codespace/.local/lib/python3.12/site-packages (from requests>=2.31->yfinance) (3.4.1)\n",
      "Requirement already satisfied: idna<4,>=2.5 in /home/codespace/.local/lib/python3.12/site-packages (from requests>=2.31->yfinance) (3.10)\n",
      "Requirement already satisfied: urllib3<3,>=1.21.1 in /home/codespace/.local/lib/python3.12/site-packages (from requests>=2.31->yfinance) (2.4.0)\n",
      "Requirement already satisfied: certifi>=2017.4.17 in /home/codespace/.local/lib/python3.12/site-packages (from requests>=2.31->yfinance) (2025.1.31)\n",
      "Requirement already satisfied: six>=1.5 in /home/codespace/.local/lib/python3.12/site-packages (from python-dateutil>=2.8.2->pandas>=1.3.0->yfinance) (1.17.0)\n"
     ]
    }
   ],
   "source": [
    "!pip install yfinance"
   ]
  },
  {
   "cell_type": "code",
   "execution_count": 2,
   "id": "bfe5d690",
   "metadata": {},
   "outputs": [
    {
     "name": "stdout",
     "output_type": "stream",
     "text": [
      "Ticker: HVN.AX\n",
      "Last Price: 4.93\n",
      "EPS: 2.04\n",
      "P/E Ratio: 2.41\n",
      "ROA: 32.10%\n",
      "Dividend Yield: 2.43%\n"
     ]
    },
    {
     "name": "stderr",
     "output_type": "stream",
     "text": [
      "/tmp/ipykernel_7088/2299132615.py:22: FutureWarning: Series.__getitem__ treating keys as positions is deprecated. In a future version, integer keys will always be treated as labels (consistent with DataFrame behavior). To access a value by position, use `ser.iloc[pos]`\n",
      "  last_price = stock_prices['Close'][-1]\n"
     ]
    }
   ],
   "source": [
    "# import yfinance as yf\n",
    "import yfinance as yf\n",
    "\n",
    "# calculate ratios\n",
    "from financial_metrics import (\n",
    "    calculate_pe_ratio,\n",
    "    calculate_eps,\n",
    "    calculate_roa,\n",
    "    calculate_dividend_yield\n",
    ")\n",
    "\n",
    "TICKER = \"HVN.AX\"\n",
    "stock = yf.Ticker(TICKER)\n",
    "\n",
    "# Get historical prices\n",
    "stock_prices = stock.history(period=\"10y\")\n",
    "stock_info = stock.info\n",
    "stock_financials = stock.financials\n",
    "stock_balance_sheet = stock.balance_sheet\n",
    "\n",
    "# Extract necessary values\n",
    "last_price = stock_prices['Close'][-1]\n",
    "earnings = stock_financials.loc['Net Income'].sum()\n",
    "dividend = stock_info.get(\"lastDividendValue\", 0)\n",
    "shares_outstanding = stock_info.get(\"sharesOutstanding\", 1)\n",
    "total_assets = stock_balance_sheet.loc[\"Total Assets\"].iloc[0]\n",
    "\n",
    "# Calculate ratios\n",
    "eps = calculate_eps(earnings, shares_outstanding)\n",
    "pe = calculate_pe_ratio(last_price, eps)\n",
    "roa = calculate_roa(earnings, total_assets)\n",
    "div_yield = calculate_dividend_yield(dividend, last_price)\n",
    "\n",
    "# Print results\n",
    "print(f\"Ticker: {TICKER}\")\n",
    "print(f\"Last Price: {last_price:.2f}\")\n",
    "print(f\"EPS: {eps:.2f}\")\n",
    "print(f\"P/E Ratio: {pe:.2f}\")\n",
    "print(f\"ROA: {roa:.2%}\")\n",
    "print(f\"Dividend Yield: {div_yield:.2%}\")"
   ]
  }
 ],
 "metadata": {
  "kernelspec": {
   "display_name": "Python 3",
   "language": "python",
   "name": "python3"
  },
  "language_info": {
   "codemirror_mode": {
    "name": "ipython",
    "version": 3
   },
   "file_extension": ".py",
   "mimetype": "text/x-python",
   "name": "python",
   "nbconvert_exporter": "python",
   "pygments_lexer": "ipython3",
   "version": "3.12.1"
  }
 },
 "nbformat": 4,
 "nbformat_minor": 5
}
